{
  "nbformat": 4,
  "nbformat_minor": 0,
  "metadata": {
    "colab": {
      "name": "TF2CourseBreastCancerPredict.ipynb",
      "provenance": [],
      "collapsed_sections": []
    },
    "kernelspec": {
      "name": "python3",
      "display_name": "Python 3"
    }
  },
  "cells": [
    {
      "cell_type": "code",
      "metadata": {
        "id": "PRC50esQh-LR",
        "colab_type": "code",
        "colab": {
          "base_uri": "https://localhost:8080/",
          "height": 34
        },
        "outputId": "4424cf8c-2691-4fc4-c7e1-05bef7fd8308"
      },
      "source": [
        "import numpy as np\n",
        "import matplotlib.pyplot as plt\n",
        "import pandas as pd\n",
        "import tensorflow as tf\n",
        "print(tf.__version__)\n",
        "from sklearn.model_selection import train_test_split"
      ],
      "execution_count": null,
      "outputs": [
        {
          "output_type": "stream",
          "text": [
            "2.2.0\n"
          ],
          "name": "stdout"
        }
      ]
    },
    {
      "cell_type": "code",
      "metadata": {
        "id": "yu_6EldxiDYV",
        "colab_type": "code",
        "colab": {}
      },
      "source": [
        "#load the data (from sklearn)\n",
        "from sklearn.datasets import load_breast_cancer"
      ],
      "execution_count": null,
      "outputs": []
    },
    {
      "cell_type": "code",
      "metadata": {
        "id": "bcEvY5ZEapL_",
        "colab_type": "code",
        "colab": {}
      },
      "source": [
        "# load the data set to a variable\n",
        "data = load_breast_cancer()"
      ],
      "execution_count": null,
      "outputs": []
    },
    {
      "cell_type": "code",
      "metadata": {
        "id": "-1iyE4MLaw2m",
        "colab_type": "code",
        "colab": {
          "base_uri": "https://localhost:8080/",
          "height": 34
        },
        "outputId": "3905690b-5f70-4390-b406-3072ef9e9108"
      },
      "source": [
        "type(data)"
      ],
      "execution_count": null,
      "outputs": [
        {
          "output_type": "execute_result",
          "data": {
            "text/plain": [
              "sklearn.utils.Bunch"
            ]
          },
          "metadata": {
            "tags": []
          },
          "execution_count": 51
        }
      ]
    },
    {
      "cell_type": "code",
      "metadata": {
        "id": "_i5aVgYZa5Ab",
        "colab_type": "code",
        "colab": {
          "base_uri": "https://localhost:8080/",
          "height": 54
        },
        "outputId": "21e4199a-5405-448f-e10b-8ea6c76fbbdd"
      },
      "source": [
        "data.keys()"
      ],
      "execution_count": null,
      "outputs": [
        {
          "output_type": "execute_result",
          "data": {
            "text/plain": [
              "dict_keys(['data', 'target', 'target_names', 'DESCR', 'feature_names', 'filename'])"
            ]
          },
          "metadata": {
            "tags": []
          },
          "execution_count": 52
        }
      ]
    },
    {
      "cell_type": "code",
      "metadata": {
        "id": "tP9cfP2JjmxO",
        "colab_type": "code",
        "colab": {
          "base_uri": "https://localhost:8080/",
          "height": 34
        },
        "outputId": "f059da6d-f2fb-482e-966e-a1ca5710c6b1"
      },
      "source": [
        "data.data.shape"
      ],
      "execution_count": null,
      "outputs": [
        {
          "output_type": "execute_result",
          "data": {
            "text/plain": [
              "(569, 30)"
            ]
          },
          "metadata": {
            "tags": []
          },
          "execution_count": 53
        }
      ]
    },
    {
      "cell_type": "code",
      "metadata": {
        "id": "5O8ng8_wjqQn",
        "colab_type": "code",
        "colab": {
          "base_uri": "https://localhost:8080/",
          "height": 459
        },
        "outputId": "9298e6a2-f34b-4640-8467-88ff15be70e8"
      },
      "source": [
        "data.target #one dimensional array"
      ],
      "execution_count": null,
      "outputs": [
        {
          "output_type": "execute_result",
          "data": {
            "text/plain": [
              "array([0, 0, 0, 0, 0, 0, 0, 0, 0, 0, 0, 0, 0, 0, 0, 0, 0, 0, 0, 1, 1, 1,\n",
              "       0, 0, 0, 0, 0, 0, 0, 0, 0, 0, 0, 0, 0, 0, 0, 1, 0, 0, 0, 0, 0, 0,\n",
              "       0, 0, 1, 0, 1, 1, 1, 1, 1, 0, 0, 1, 0, 0, 1, 1, 1, 1, 0, 1, 0, 0,\n",
              "       1, 1, 1, 1, 0, 1, 0, 0, 1, 0, 1, 0, 0, 1, 1, 1, 0, 0, 1, 0, 0, 0,\n",
              "       1, 1, 1, 0, 1, 1, 0, 0, 1, 1, 1, 0, 0, 1, 1, 1, 1, 0, 1, 1, 0, 1,\n",
              "       1, 1, 1, 1, 1, 1, 1, 0, 0, 0, 1, 0, 0, 1, 1, 1, 0, 0, 1, 0, 1, 0,\n",
              "       0, 1, 0, 0, 1, 1, 0, 1, 1, 0, 1, 1, 1, 1, 0, 1, 1, 1, 1, 1, 1, 1,\n",
              "       1, 1, 0, 1, 1, 1, 1, 0, 0, 1, 0, 1, 1, 0, 0, 1, 1, 0, 0, 1, 1, 1,\n",
              "       1, 0, 1, 1, 0, 0, 0, 1, 0, 1, 0, 1, 1, 1, 0, 1, 1, 0, 0, 1, 0, 0,\n",
              "       0, 0, 1, 0, 0, 0, 1, 0, 1, 0, 1, 1, 0, 1, 0, 0, 0, 0, 1, 1, 0, 0,\n",
              "       1, 1, 1, 0, 1, 1, 1, 1, 1, 0, 0, 1, 1, 0, 1, 1, 0, 0, 1, 0, 1, 1,\n",
              "       1, 1, 0, 1, 1, 1, 1, 1, 0, 1, 0, 0, 0, 0, 0, 0, 0, 0, 0, 0, 0, 0,\n",
              "       0, 0, 1, 1, 1, 1, 1, 1, 0, 1, 0, 1, 1, 0, 1, 1, 0, 1, 0, 0, 1, 1,\n",
              "       1, 1, 1, 1, 1, 1, 1, 1, 1, 1, 1, 0, 1, 1, 0, 1, 0, 1, 1, 1, 1, 1,\n",
              "       1, 1, 1, 1, 1, 1, 1, 1, 1, 0, 1, 1, 1, 0, 1, 0, 1, 1, 1, 1, 0, 0,\n",
              "       0, 1, 1, 1, 1, 0, 1, 0, 1, 0, 1, 1, 1, 0, 1, 1, 1, 1, 1, 1, 1, 0,\n",
              "       0, 0, 1, 1, 1, 1, 1, 1, 1, 1, 1, 1, 1, 0, 0, 1, 0, 0, 0, 1, 0, 0,\n",
              "       1, 1, 1, 1, 1, 0, 1, 1, 1, 1, 1, 0, 1, 1, 1, 0, 1, 1, 0, 0, 1, 1,\n",
              "       1, 1, 1, 1, 0, 1, 1, 1, 1, 1, 1, 1, 0, 1, 1, 1, 1, 1, 0, 1, 1, 0,\n",
              "       1, 1, 1, 1, 1, 1, 1, 1, 1, 1, 1, 1, 0, 1, 0, 0, 1, 0, 1, 1, 1, 1,\n",
              "       1, 0, 1, 1, 0, 1, 0, 1, 1, 0, 1, 0, 1, 1, 1, 1, 1, 1, 1, 1, 0, 0,\n",
              "       1, 1, 1, 1, 1, 1, 0, 1, 1, 1, 1, 1, 1, 1, 1, 1, 1, 0, 1, 1, 1, 1,\n",
              "       1, 1, 1, 0, 1, 0, 1, 1, 0, 1, 1, 1, 1, 1, 0, 0, 1, 0, 1, 0, 1, 1,\n",
              "       1, 1, 1, 0, 1, 1, 0, 1, 0, 1, 0, 0, 1, 1, 1, 0, 1, 1, 1, 1, 1, 1,\n",
              "       1, 1, 1, 1, 1, 0, 1, 0, 0, 1, 1, 1, 1, 1, 1, 1, 1, 1, 1, 1, 1, 1,\n",
              "       1, 1, 1, 1, 1, 1, 1, 1, 1, 1, 1, 1, 0, 0, 0, 0, 0, 0, 1])"
            ]
          },
          "metadata": {
            "tags": []
          },
          "execution_count": 54
        }
      ]
    },
    {
      "cell_type": "code",
      "metadata": {
        "id": "AkMgdsS0kCHn",
        "colab_type": "code",
        "colab": {
          "base_uri": "https://localhost:8080/",
          "height": 34
        },
        "outputId": "a4303395-54b4-4020-dbb5-f70a8e1279ec"
      },
      "source": [
        "data['target_names']"
      ],
      "execution_count": null,
      "outputs": [
        {
          "output_type": "execute_result",
          "data": {
            "text/plain": [
              "array(['malignant', 'benign'], dtype='<U9')"
            ]
          },
          "metadata": {
            "tags": []
          },
          "execution_count": 55
        }
      ]
    },
    {
      "cell_type": "code",
      "metadata": {
        "id": "ZxYicjKwo01L",
        "colab_type": "code",
        "colab": {
          "base_uri": "https://localhost:8080/",
          "height": 34
        },
        "outputId": "b8b72091-cb79-4be0-fa34-408c7663047c"
      },
      "source": [
        "data['target'].shape"
      ],
      "execution_count": null,
      "outputs": [
        {
          "output_type": "execute_result",
          "data": {
            "text/plain": [
              "(569,)"
            ]
          },
          "metadata": {
            "tags": []
          },
          "execution_count": 56
        }
      ]
    },
    {
      "cell_type": "code",
      "metadata": {
        "id": "8POX5kRkl4KG",
        "colab_type": "code",
        "colab": {
          "base_uri": "https://localhost:8080/",
          "height": 187
        },
        "outputId": "0c97a789-b295-4b9f-c03c-9f8bd9ea6259"
      },
      "source": [
        "data['feature_names']"
      ],
      "execution_count": null,
      "outputs": [
        {
          "output_type": "execute_result",
          "data": {
            "text/plain": [
              "array(['mean radius', 'mean texture', 'mean perimeter', 'mean area',\n",
              "       'mean smoothness', 'mean compactness', 'mean concavity',\n",
              "       'mean concave points', 'mean symmetry', 'mean fractal dimension',\n",
              "       'radius error', 'texture error', 'perimeter error', 'area error',\n",
              "       'smoothness error', 'compactness error', 'concavity error',\n",
              "       'concave points error', 'symmetry error',\n",
              "       'fractal dimension error', 'worst radius', 'worst texture',\n",
              "       'worst perimeter', 'worst area', 'worst smoothness',\n",
              "       'worst compactness', 'worst concavity', 'worst concave points',\n",
              "       'worst symmetry', 'worst fractal dimension'], dtype='<U23')"
            ]
          },
          "metadata": {
            "tags": []
          },
          "execution_count": 57
        }
      ]
    },
    {
      "cell_type": "code",
      "metadata": {
        "id": "TXlhr7ZwkNCO",
        "colab_type": "code",
        "colab": {}
      },
      "source": [
        "X_train , X_test, y_train, y_test = train_test_split(data['data'],data['target'], \n",
        "                                                     test_size=0.33)\n",
        "\n",
        "N, D = X_train.shape #assign variable N D for later user"
      ],
      "execution_count": null,
      "outputs": []
    },
    {
      "cell_type": "code",
      "metadata": {
        "id": "NQ5hQ02QlVzC",
        "colab_type": "code",
        "colab": {}
      },
      "source": [
        "from sklearn.preprocessing import StandardScaler # scale our data which is standardisation "
      ],
      "execution_count": null,
      "outputs": []
    },
    {
      "cell_type": "code",
      "metadata": {
        "id": "NdB143pemO5x",
        "colab_type": "code",
        "colab": {}
      },
      "source": [
        "scaler = StandardScaler()\n",
        "X_train = scaler.fit_transform(X_train)\n",
        "X_test = scaler.transform(X_test)"
      ],
      "execution_count": null,
      "outputs": []
    },
    {
      "cell_type": "code",
      "metadata": {
        "id": "nDsNYF74mgCN",
        "colab_type": "code",
        "colab": {}
      },
      "source": [
        "#build the model\n",
        "model = tf.keras.models.Sequential([\n",
        "                                    tf.keras.layers.Input(shape=(D,)),\n",
        "                                    tf.keras.layers.Dense(1, activation='sigmoid')\n",
        "])"
      ],
      "execution_count": null,
      "outputs": []
    },
    {
      "cell_type": "code",
      "metadata": {
        "id": "fDCbekQkof7M",
        "colab_type": "code",
        "colab": {}
      },
      "source": [
        "#compile the model\n",
        "model.compile(optimizer='adam',loss='binary_crossentropy', metrics=['accuracy'])"
      ],
      "execution_count": null,
      "outputs": []
    },
    {
      "cell_type": "code",
      "metadata": {
        "id": "J1vBVmSGpiNx",
        "colab_type": "code",
        "colab": {
          "base_uri": "https://localhost:8080/",
          "height": 1000
        },
        "outputId": "9581d686-00cf-4db8-d91d-38b27cf3ddf6"
      },
      "source": [
        "#Train the model\n",
        "r = model.fit(X_train, y_train, validation_data=(X_test,y_test), epochs=100)"
      ],
      "execution_count": null,
      "outputs": [
        {
          "output_type": "stream",
          "text": [
            "Epoch 1/100\n",
            "12/12 [==============================] - 0s 12ms/step - loss: 0.9161 - accuracy: 0.3937 - val_loss: 0.9134 - val_accuracy: 0.4149\n",
            "Epoch 2/100\n",
            "12/12 [==============================] - 0s 5ms/step - loss: 0.8240 - accuracy: 0.4514 - val_loss: 0.8121 - val_accuracy: 0.5266\n",
            "Epoch 3/100\n",
            "12/12 [==============================] - 0s 6ms/step - loss: 0.7416 - accuracy: 0.5381 - val_loss: 0.7236 - val_accuracy: 0.5798\n",
            "Epoch 4/100\n",
            "12/12 [==============================] - 0s 6ms/step - loss: 0.6669 - accuracy: 0.6115 - val_loss: 0.6499 - val_accuracy: 0.6330\n",
            "Epoch 5/100\n",
            "12/12 [==============================] - 0s 5ms/step - loss: 0.6045 - accuracy: 0.6667 - val_loss: 0.5875 - val_accuracy: 0.7128\n",
            "Epoch 6/100\n",
            "12/12 [==============================] - 0s 6ms/step - loss: 0.5521 - accuracy: 0.7165 - val_loss: 0.5346 - val_accuracy: 0.7553\n",
            "Epoch 7/100\n",
            "12/12 [==============================] - 0s 5ms/step - loss: 0.5069 - accuracy: 0.7743 - val_loss: 0.4910 - val_accuracy: 0.8191\n",
            "Epoch 8/100\n",
            "12/12 [==============================] - 0s 5ms/step - loss: 0.4694 - accuracy: 0.8136 - val_loss: 0.4544 - val_accuracy: 0.8457\n",
            "Epoch 9/100\n",
            "12/12 [==============================] - 0s 5ms/step - loss: 0.4381 - accuracy: 0.8530 - val_loss: 0.4230 - val_accuracy: 0.8617\n",
            "Epoch 10/100\n",
            "12/12 [==============================] - 0s 6ms/step - loss: 0.4107 - accuracy: 0.8793 - val_loss: 0.3969 - val_accuracy: 0.8670\n",
            "Epoch 11/100\n",
            "12/12 [==============================] - 0s 5ms/step - loss: 0.3868 - accuracy: 0.8898 - val_loss: 0.3747 - val_accuracy: 0.8723\n",
            "Epoch 12/100\n",
            "12/12 [==============================] - 0s 5ms/step - loss: 0.3665 - accuracy: 0.8924 - val_loss: 0.3551 - val_accuracy: 0.8777\n",
            "Epoch 13/100\n",
            "12/12 [==============================] - 0s 5ms/step - loss: 0.3484 - accuracy: 0.9003 - val_loss: 0.3378 - val_accuracy: 0.8989\n",
            "Epoch 14/100\n",
            "12/12 [==============================] - 0s 5ms/step - loss: 0.3319 - accuracy: 0.9029 - val_loss: 0.3228 - val_accuracy: 0.9096\n",
            "Epoch 15/100\n",
            "12/12 [==============================] - 0s 5ms/step - loss: 0.3178 - accuracy: 0.9081 - val_loss: 0.3091 - val_accuracy: 0.9202\n",
            "Epoch 16/100\n",
            "12/12 [==============================] - 0s 5ms/step - loss: 0.3044 - accuracy: 0.9239 - val_loss: 0.2969 - val_accuracy: 0.9202\n",
            "Epoch 17/100\n",
            "12/12 [==============================] - 0s 5ms/step - loss: 0.2919 - accuracy: 0.9291 - val_loss: 0.2864 - val_accuracy: 0.9255\n",
            "Epoch 18/100\n",
            "12/12 [==============================] - 0s 6ms/step - loss: 0.2812 - accuracy: 0.9344 - val_loss: 0.2767 - val_accuracy: 0.9255\n",
            "Epoch 19/100\n",
            "12/12 [==============================] - 0s 6ms/step - loss: 0.2714 - accuracy: 0.9370 - val_loss: 0.2676 - val_accuracy: 0.9255\n",
            "Epoch 20/100\n",
            "12/12 [==============================] - 0s 5ms/step - loss: 0.2620 - accuracy: 0.9423 - val_loss: 0.2595 - val_accuracy: 0.9309\n",
            "Epoch 21/100\n",
            "12/12 [==============================] - 0s 5ms/step - loss: 0.2536 - accuracy: 0.9449 - val_loss: 0.2522 - val_accuracy: 0.9309\n",
            "Epoch 22/100\n",
            "12/12 [==============================] - 0s 5ms/step - loss: 0.2459 - accuracy: 0.9449 - val_loss: 0.2454 - val_accuracy: 0.9309\n",
            "Epoch 23/100\n",
            "12/12 [==============================] - 0s 6ms/step - loss: 0.2388 - accuracy: 0.9475 - val_loss: 0.2391 - val_accuracy: 0.9309\n",
            "Epoch 24/100\n",
            "12/12 [==============================] - 0s 6ms/step - loss: 0.2322 - accuracy: 0.9475 - val_loss: 0.2332 - val_accuracy: 0.9309\n",
            "Epoch 25/100\n",
            "12/12 [==============================] - 0s 5ms/step - loss: 0.2258 - accuracy: 0.9475 - val_loss: 0.2279 - val_accuracy: 0.9309\n",
            "Epoch 26/100\n",
            "12/12 [==============================] - 0s 5ms/step - loss: 0.2202 - accuracy: 0.9501 - val_loss: 0.2228 - val_accuracy: 0.9309\n",
            "Epoch 27/100\n",
            "12/12 [==============================] - 0s 5ms/step - loss: 0.2148 - accuracy: 0.9501 - val_loss: 0.2181 - val_accuracy: 0.9255\n",
            "Epoch 28/100\n",
            "12/12 [==============================] - 0s 5ms/step - loss: 0.2097 - accuracy: 0.9528 - val_loss: 0.2137 - val_accuracy: 0.9255\n",
            "Epoch 29/100\n",
            "12/12 [==============================] - 0s 5ms/step - loss: 0.2050 - accuracy: 0.9528 - val_loss: 0.2097 - val_accuracy: 0.9309\n",
            "Epoch 30/100\n",
            "12/12 [==============================] - 0s 5ms/step - loss: 0.2005 - accuracy: 0.9554 - val_loss: 0.2057 - val_accuracy: 0.9309\n",
            "Epoch 31/100\n",
            "12/12 [==============================] - 0s 5ms/step - loss: 0.1962 - accuracy: 0.9554 - val_loss: 0.2022 - val_accuracy: 0.9362\n",
            "Epoch 32/100\n",
            "12/12 [==============================] - 0s 5ms/step - loss: 0.1922 - accuracy: 0.9606 - val_loss: 0.1987 - val_accuracy: 0.9362\n",
            "Epoch 33/100\n",
            "12/12 [==============================] - 0s 5ms/step - loss: 0.1884 - accuracy: 0.9633 - val_loss: 0.1954 - val_accuracy: 0.9362\n",
            "Epoch 34/100\n",
            "12/12 [==============================] - 0s 5ms/step - loss: 0.1848 - accuracy: 0.9633 - val_loss: 0.1922 - val_accuracy: 0.9362\n",
            "Epoch 35/100\n",
            "12/12 [==============================] - 0s 5ms/step - loss: 0.1813 - accuracy: 0.9633 - val_loss: 0.1893 - val_accuracy: 0.9362\n",
            "Epoch 36/100\n",
            "12/12 [==============================] - 0s 6ms/step - loss: 0.1780 - accuracy: 0.9633 - val_loss: 0.1864 - val_accuracy: 0.9362\n",
            "Epoch 37/100\n",
            "12/12 [==============================] - 0s 5ms/step - loss: 0.1749 - accuracy: 0.9633 - val_loss: 0.1839 - val_accuracy: 0.9362\n",
            "Epoch 38/100\n",
            "12/12 [==============================] - 0s 5ms/step - loss: 0.1720 - accuracy: 0.9633 - val_loss: 0.1813 - val_accuracy: 0.9362\n",
            "Epoch 39/100\n",
            "12/12 [==============================] - 0s 5ms/step - loss: 0.1690 - accuracy: 0.9659 - val_loss: 0.1788 - val_accuracy: 0.9362\n",
            "Epoch 40/100\n",
            "12/12 [==============================] - 0s 5ms/step - loss: 0.1664 - accuracy: 0.9659 - val_loss: 0.1763 - val_accuracy: 0.9362\n",
            "Epoch 41/100\n",
            "12/12 [==============================] - 0s 5ms/step - loss: 0.1636 - accuracy: 0.9659 - val_loss: 0.1743 - val_accuracy: 0.9362\n",
            "Epoch 42/100\n",
            "12/12 [==============================] - 0s 5ms/step - loss: 0.1611 - accuracy: 0.9659 - val_loss: 0.1721 - val_accuracy: 0.9362\n",
            "Epoch 43/100\n",
            "12/12 [==============================] - 0s 5ms/step - loss: 0.1587 - accuracy: 0.9685 - val_loss: 0.1702 - val_accuracy: 0.9362\n",
            "Epoch 44/100\n",
            "12/12 [==============================] - 0s 5ms/step - loss: 0.1564 - accuracy: 0.9685 - val_loss: 0.1682 - val_accuracy: 0.9362\n",
            "Epoch 45/100\n",
            "12/12 [==============================] - 0s 5ms/step - loss: 0.1540 - accuracy: 0.9685 - val_loss: 0.1663 - val_accuracy: 0.9362\n",
            "Epoch 46/100\n",
            "12/12 [==============================] - 0s 5ms/step - loss: 0.1519 - accuracy: 0.9685 - val_loss: 0.1645 - val_accuracy: 0.9362\n",
            "Epoch 47/100\n",
            "12/12 [==============================] - 0s 6ms/step - loss: 0.1498 - accuracy: 0.9685 - val_loss: 0.1628 - val_accuracy: 0.9362\n",
            "Epoch 48/100\n",
            "12/12 [==============================] - 0s 4ms/step - loss: 0.1478 - accuracy: 0.9685 - val_loss: 0.1612 - val_accuracy: 0.9362\n",
            "Epoch 49/100\n",
            "12/12 [==============================] - 0s 5ms/step - loss: 0.1459 - accuracy: 0.9711 - val_loss: 0.1595 - val_accuracy: 0.9362\n",
            "Epoch 50/100\n",
            "12/12 [==============================] - 0s 5ms/step - loss: 0.1439 - accuracy: 0.9711 - val_loss: 0.1580 - val_accuracy: 0.9362\n",
            "Epoch 51/100\n",
            "12/12 [==============================] - 0s 6ms/step - loss: 0.1422 - accuracy: 0.9711 - val_loss: 0.1565 - val_accuracy: 0.9362\n",
            "Epoch 52/100\n",
            "12/12 [==============================] - 0s 4ms/step - loss: 0.1404 - accuracy: 0.9711 - val_loss: 0.1551 - val_accuracy: 0.9362\n",
            "Epoch 53/100\n",
            "12/12 [==============================] - 0s 5ms/step - loss: 0.1388 - accuracy: 0.9711 - val_loss: 0.1537 - val_accuracy: 0.9362\n",
            "Epoch 54/100\n",
            "12/12 [==============================] - 0s 5ms/step - loss: 0.1371 - accuracy: 0.9711 - val_loss: 0.1524 - val_accuracy: 0.9362\n",
            "Epoch 55/100\n",
            "12/12 [==============================] - 0s 4ms/step - loss: 0.1356 - accuracy: 0.9711 - val_loss: 0.1511 - val_accuracy: 0.9362\n",
            "Epoch 56/100\n",
            "12/12 [==============================] - 0s 5ms/step - loss: 0.1340 - accuracy: 0.9711 - val_loss: 0.1499 - val_accuracy: 0.9362\n",
            "Epoch 57/100\n",
            "12/12 [==============================] - 0s 5ms/step - loss: 0.1325 - accuracy: 0.9711 - val_loss: 0.1487 - val_accuracy: 0.9362\n",
            "Epoch 58/100\n",
            "12/12 [==============================] - 0s 5ms/step - loss: 0.1310 - accuracy: 0.9711 - val_loss: 0.1476 - val_accuracy: 0.9415\n",
            "Epoch 59/100\n",
            "12/12 [==============================] - 0s 5ms/step - loss: 0.1297 - accuracy: 0.9711 - val_loss: 0.1465 - val_accuracy: 0.9415\n",
            "Epoch 60/100\n",
            "12/12 [==============================] - 0s 6ms/step - loss: 0.1283 - accuracy: 0.9711 - val_loss: 0.1454 - val_accuracy: 0.9415\n",
            "Epoch 61/100\n",
            "12/12 [==============================] - 0s 5ms/step - loss: 0.1270 - accuracy: 0.9711 - val_loss: 0.1443 - val_accuracy: 0.9415\n",
            "Epoch 62/100\n",
            "12/12 [==============================] - 0s 4ms/step - loss: 0.1257 - accuracy: 0.9711 - val_loss: 0.1433 - val_accuracy: 0.9415\n",
            "Epoch 63/100\n",
            "12/12 [==============================] - 0s 5ms/step - loss: 0.1245 - accuracy: 0.9711 - val_loss: 0.1423 - val_accuracy: 0.9415\n",
            "Epoch 64/100\n",
            "12/12 [==============================] - 0s 4ms/step - loss: 0.1233 - accuracy: 0.9738 - val_loss: 0.1414 - val_accuracy: 0.9415\n",
            "Epoch 65/100\n",
            "12/12 [==============================] - 0s 5ms/step - loss: 0.1221 - accuracy: 0.9764 - val_loss: 0.1405 - val_accuracy: 0.9415\n",
            "Epoch 66/100\n",
            "12/12 [==============================] - 0s 6ms/step - loss: 0.1210 - accuracy: 0.9764 - val_loss: 0.1396 - val_accuracy: 0.9415\n",
            "Epoch 67/100\n",
            "12/12 [==============================] - 0s 5ms/step - loss: 0.1198 - accuracy: 0.9764 - val_loss: 0.1387 - val_accuracy: 0.9415\n",
            "Epoch 68/100\n",
            "12/12 [==============================] - 0s 5ms/step - loss: 0.1188 - accuracy: 0.9764 - val_loss: 0.1378 - val_accuracy: 0.9415\n",
            "Epoch 69/100\n",
            "12/12 [==============================] - 0s 5ms/step - loss: 0.1177 - accuracy: 0.9764 - val_loss: 0.1370 - val_accuracy: 0.9415\n",
            "Epoch 70/100\n",
            "12/12 [==============================] - 0s 4ms/step - loss: 0.1167 - accuracy: 0.9764 - val_loss: 0.1363 - val_accuracy: 0.9415\n",
            "Epoch 71/100\n",
            "12/12 [==============================] - 0s 5ms/step - loss: 0.1157 - accuracy: 0.9764 - val_loss: 0.1356 - val_accuracy: 0.9415\n",
            "Epoch 72/100\n",
            "12/12 [==============================] - 0s 5ms/step - loss: 0.1148 - accuracy: 0.9764 - val_loss: 0.1347 - val_accuracy: 0.9468\n",
            "Epoch 73/100\n",
            "12/12 [==============================] - 0s 5ms/step - loss: 0.1138 - accuracy: 0.9764 - val_loss: 0.1340 - val_accuracy: 0.9468\n",
            "Epoch 74/100\n",
            "12/12 [==============================] - 0s 4ms/step - loss: 0.1129 - accuracy: 0.9764 - val_loss: 0.1333 - val_accuracy: 0.9468\n",
            "Epoch 75/100\n",
            "12/12 [==============================] - 0s 5ms/step - loss: 0.1119 - accuracy: 0.9764 - val_loss: 0.1326 - val_accuracy: 0.9468\n",
            "Epoch 76/100\n",
            "12/12 [==============================] - 0s 5ms/step - loss: 0.1111 - accuracy: 0.9790 - val_loss: 0.1319 - val_accuracy: 0.9468\n",
            "Epoch 77/100\n",
            "12/12 [==============================] - 0s 5ms/step - loss: 0.1102 - accuracy: 0.9790 - val_loss: 0.1313 - val_accuracy: 0.9468\n",
            "Epoch 78/100\n",
            "12/12 [==============================] - 0s 5ms/step - loss: 0.1094 - accuracy: 0.9790 - val_loss: 0.1306 - val_accuracy: 0.9521\n",
            "Epoch 79/100\n",
            "12/12 [==============================] - 0s 5ms/step - loss: 0.1086 - accuracy: 0.9816 - val_loss: 0.1299 - val_accuracy: 0.9521\n",
            "Epoch 80/100\n",
            "12/12 [==============================] - 0s 5ms/step - loss: 0.1078 - accuracy: 0.9816 - val_loss: 0.1294 - val_accuracy: 0.9521\n",
            "Epoch 81/100\n",
            "12/12 [==============================] - 0s 5ms/step - loss: 0.1070 - accuracy: 0.9816 - val_loss: 0.1288 - val_accuracy: 0.9521\n",
            "Epoch 82/100\n",
            "12/12 [==============================] - 0s 5ms/step - loss: 0.1062 - accuracy: 0.9816 - val_loss: 0.1282 - val_accuracy: 0.9521\n",
            "Epoch 83/100\n",
            "12/12 [==============================] - 0s 4ms/step - loss: 0.1055 - accuracy: 0.9816 - val_loss: 0.1276 - val_accuracy: 0.9521\n",
            "Epoch 84/100\n",
            "12/12 [==============================] - 0s 5ms/step - loss: 0.1047 - accuracy: 0.9816 - val_loss: 0.1271 - val_accuracy: 0.9521\n",
            "Epoch 85/100\n",
            "12/12 [==============================] - 0s 4ms/step - loss: 0.1040 - accuracy: 0.9816 - val_loss: 0.1265 - val_accuracy: 0.9521\n",
            "Epoch 86/100\n",
            "12/12 [==============================] - 0s 5ms/step - loss: 0.1033 - accuracy: 0.9816 - val_loss: 0.1259 - val_accuracy: 0.9521\n",
            "Epoch 87/100\n",
            "12/12 [==============================] - 0s 5ms/step - loss: 0.1026 - accuracy: 0.9816 - val_loss: 0.1254 - val_accuracy: 0.9521\n",
            "Epoch 88/100\n",
            "12/12 [==============================] - 0s 5ms/step - loss: 0.1020 - accuracy: 0.9816 - val_loss: 0.1249 - val_accuracy: 0.9521\n",
            "Epoch 89/100\n",
            "12/12 [==============================] - 0s 4ms/step - loss: 0.1013 - accuracy: 0.9816 - val_loss: 0.1245 - val_accuracy: 0.9521\n",
            "Epoch 90/100\n",
            "12/12 [==============================] - 0s 4ms/step - loss: 0.1006 - accuracy: 0.9816 - val_loss: 0.1240 - val_accuracy: 0.9521\n",
            "Epoch 91/100\n",
            "12/12 [==============================] - 0s 5ms/step - loss: 0.1001 - accuracy: 0.9816 - val_loss: 0.1234 - val_accuracy: 0.9521\n",
            "Epoch 92/100\n",
            "12/12 [==============================] - 0s 5ms/step - loss: 0.0994 - accuracy: 0.9816 - val_loss: 0.1230 - val_accuracy: 0.9521\n",
            "Epoch 93/100\n",
            "12/12 [==============================] - 0s 4ms/step - loss: 0.0988 - accuracy: 0.9816 - val_loss: 0.1225 - val_accuracy: 0.9521\n",
            "Epoch 94/100\n",
            "12/12 [==============================] - 0s 5ms/step - loss: 0.0982 - accuracy: 0.9816 - val_loss: 0.1221 - val_accuracy: 0.9521\n",
            "Epoch 95/100\n",
            "12/12 [==============================] - 0s 6ms/step - loss: 0.0976 - accuracy: 0.9816 - val_loss: 0.1217 - val_accuracy: 0.9521\n",
            "Epoch 96/100\n",
            "12/12 [==============================] - 0s 5ms/step - loss: 0.0971 - accuracy: 0.9816 - val_loss: 0.1212 - val_accuracy: 0.9521\n",
            "Epoch 97/100\n",
            "12/12 [==============================] - 0s 6ms/step - loss: 0.0966 - accuracy: 0.9816 - val_loss: 0.1208 - val_accuracy: 0.9521\n",
            "Epoch 98/100\n",
            "12/12 [==============================] - 0s 6ms/step - loss: 0.0959 - accuracy: 0.9816 - val_loss: 0.1204 - val_accuracy: 0.9521\n",
            "Epoch 99/100\n",
            "12/12 [==============================] - 0s 5ms/step - loss: 0.0954 - accuracy: 0.9816 - val_loss: 0.1200 - val_accuracy: 0.9521\n",
            "Epoch 100/100\n",
            "12/12 [==============================] - 0s 5ms/step - loss: 0.0949 - accuracy: 0.9816 - val_loss: 0.1196 - val_accuracy: 0.9521\n"
          ],
          "name": "stdout"
        }
      ]
    },
    {
      "cell_type": "code",
      "metadata": {
        "id": "kamo8Vieze-3",
        "colab_type": "code",
        "colab": {}
      },
      "source": [
        ""
      ],
      "execution_count": null,
      "outputs": []
    },
    {
      "cell_type": "code",
      "metadata": {
        "id": "scVpYw76qMa4",
        "colab_type": "code",
        "colab": {
          "base_uri": "https://localhost:8080/",
          "height": 105
        },
        "outputId": "384b5065-db70-4735-fb99-82f6dc340c1a"
      },
      "source": [
        "print(\"Train Score:\", model.evaluate(X_train, y_train))\n",
        "print(\"Test Score:\", model.evaluate(X_test, y_test))"
      ],
      "execution_count": null,
      "outputs": [
        {
          "output_type": "stream",
          "text": [
            "12/12 [==============================] - 0s 1ms/step - loss: 0.0946 - accuracy: 0.9816\n",
            "Train Score: [0.09458820521831512, 0.9816272854804993]\n",
            "6/6 [==============================] - 0s 2ms/step - loss: 0.1196 - accuracy: 0.9521\n",
            "Test Score: [0.11955489218235016, 0.9521276354789734]\n"
          ],
          "name": "stdout"
        }
      ]
    },
    {
      "cell_type": "code",
      "metadata": {
        "id": "hg061rDPqpLq",
        "colab_type": "code",
        "colab": {
          "base_uri": "https://localhost:8080/",
          "height": 265
        },
        "outputId": "1f6e67ad-5aa3-4607-ac04-4b53fae4cef6"
      },
      "source": [
        "plt.plot(r.history['loss'], label='loss')\n",
        "plt.plot(r.history['val_loss'], label='val_loss');"
      ],
      "execution_count": null,
      "outputs": [
        {
          "output_type": "display_data",
          "data": {
            "image/png": "[encoded data removed]",
            "text/plain": [
              "<Figure size 432x288 with 1 Axes>"
            ]
          },
          "metadata": {
            "tags": [],
            "needs_background": "light"
          }
        }
      ]
    },
    {
      "cell_type": "code",
      "metadata": {
        "id": "MljD1SR_sKty",
        "colab_type": "code",
        "colab": {
          "base_uri": "https://localhost:8080/",
          "height": 266
        },
        "outputId": "f377b00c-6258-463e-848a-866a581ce27f"
      },
      "source": [
        "#plot the accuracy \n",
        "plt.plot(r.history['accuracy'], label='accuracy')\n",
        "plt.plot(r.history['val_accuracy'], label='val_acc')\n",
        "plt.legend();"
      ],
      "execution_count": null,
      "outputs": [
        {
          "output_type": "display_data",
          "data": {
            "image/png": "[encoded data removed]",
            "text/plain": [
              "<Figure size 432x288 with 1 Axes>"
            ]
          },
          "metadata": {
            "tags": [],
            "needs_background": "light"
          }
        }
      ]
    },
    {
      "cell_type": "code",
      "metadata": {
        "id": "vKTe3UOatU27",
        "colab_type": "code",
        "colab": {}
      },
      "source": [
        "#Make predictions\n",
        "P = model.predict(X_test)"
      ],
      "execution_count": null,
      "outputs": []
    },
    {
      "cell_type": "code",
      "metadata": {
        "id": "Lf3uXBaKv6Qc",
        "colab_type": "code",
        "colab": {
          "base_uri": "https://localhost:8080/",
          "height": 1000
        },
        "outputId": "483f74c0-975e-4b8d-e5fa-79ecac737da7"
      },
      "source": [
        "print(P)"
      ],
      "execution_count": null,
      "outputs": [
        {
          "output_type": "stream",
          "text": [
            "[[9.9999988e-01]\n",
            " [9.9464524e-01]\n",
            " [1.0000000e+00]\n",
            " [5.3091022e-14]\n",
            " [1.5270763e-23]\n",
            " [0.0000000e+00]\n",
            " [4.0372858e-38]\n",
            " [9.9992204e-01]\n",
            " [7.2703362e-03]\n",
            " [0.0000000e+00]\n",
            " [9.9999905e-01]\n",
            " [9.9999803e-01]\n",
            " [2.3693740e-03]\n",
            " [8.8582486e-01]\n",
            " [5.7478522e-28]\n",
            " [9.9663591e-01]\n",
            " [9.9979639e-01]\n",
            " [9.9999976e-01]\n",
            " [2.7111739e-01]\n",
            " [9.8333549e-01]\n",
            " [8.2298791e-01]\n",
            " [9.9745286e-01]\n",
            " [5.8853984e-01]\n",
            " [1.8375042e-26]\n",
            " [1.0000000e+00]\n",
            " [9.2191749e-10]\n",
            " [0.0000000e+00]\n",
            " [9.9999595e-01]\n",
            " [4.2242354e-01]\n",
            " [9.6897250e-01]\n",
            " [9.9994189e-01]\n",
            " [1.0000000e+00]\n",
            " [9.9996549e-01]\n",
            " [0.0000000e+00]\n",
            " [6.1381620e-08]\n",
            " [9.9999797e-01]\n",
            " [7.2823763e-03]\n",
            " [1.6276300e-02]\n",
            " [1.0855168e-02]\n",
            " [9.9998921e-01]\n",
            " [9.9992049e-01]\n",
            " [9.9999660e-01]\n",
            " [9.9968797e-01]\n",
            " [9.9999917e-01]\n",
            " [1.4555311e-01]\n",
            " [9.9983895e-01]\n",
            " [1.0000000e+00]\n",
            " [9.9999803e-01]\n",
            " [9.9999899e-01]\n",
            " [9.9999714e-01]\n",
            " [1.1124533e-05]\n",
            " [9.9981642e-01]\n",
            " [0.0000000e+00]\n",
            " [8.7481746e-25]\n",
            " [8.3253461e-01]\n",
            " [7.8444600e-01]\n",
            " [1.0000000e+00]\n",
            " [9.9999964e-01]\n",
            " [9.9999970e-01]\n",
            " [9.9993992e-01]\n",
            " [4.1162384e-06]\n",
            " [9.9999499e-01]\n",
            " [2.4502898e-22]\n",
            " [9.9931777e-01]\n",
            " [0.0000000e+00]\n",
            " [9.9999976e-01]\n",
            " [9.9999464e-01]\n",
            " [9.9999368e-01]\n",
            " [5.5128105e-20]\n",
            " [9.9999851e-01]\n",
            " [9.9999678e-01]\n",
            " [3.6094647e-12]\n",
            " [9.9960655e-01]\n",
            " [8.8926017e-01]\n",
            " [9.2636567e-01]\n",
            " [9.9999940e-01]\n",
            " [9.9552959e-01]\n",
            " [9.9991071e-01]\n",
            " [9.9999976e-01]\n",
            " [9.9989021e-01]\n",
            " [2.4977267e-02]\n",
            " [9.7717285e-01]\n",
            " [1.5715603e-29]\n",
            " [5.5078095e-27]\n",
            " [9.9930167e-01]\n",
            " [1.0000000e+00]\n",
            " [9.9798787e-01]\n",
            " [1.0000000e+00]\n",
            " [9.9999923e-01]\n",
            " [8.5908021e-15]\n",
            " [9.9749541e-01]\n",
            " [9.9999964e-01]\n",
            " [9.8686898e-01]\n",
            " [9.9987602e-01]\n",
            " [9.9998599e-01]\n",
            " [8.9079285e-01]\n",
            " [9.9999976e-01]\n",
            " [9.9858910e-01]\n",
            " [9.9751151e-01]\n",
            " [7.3813766e-01]\n",
            " [9.9999726e-01]\n",
            " [9.9971378e-01]\n",
            " [9.2530906e-01]\n",
            " [9.9121803e-01]\n",
            " [1.5436159e-08]\n",
            " [4.2180980e-23]\n",
            " [8.8991952e-01]\n",
            " [0.0000000e+00]\n",
            " [4.0924538e-24]\n",
            " [9.9999487e-01]\n",
            " [6.2532451e-28]\n",
            " [9.9999964e-01]\n",
            " [4.4279568e-05]\n",
            " [5.0836013e-20]\n",
            " [1.4222819e-34]\n",
            " [9.9994022e-01]\n",
            " [9.9999762e-01]\n",
            " [1.2261639e-10]\n",
            " [9.9875450e-01]\n",
            " [3.2903648e-05]\n",
            " [9.9998569e-01]\n",
            " [9.9999714e-01]\n",
            " [4.7918555e-01]\n",
            " [9.9993742e-01]\n",
            " [9.9901301e-01]\n",
            " [1.5279735e-08]\n",
            " [9.5212144e-01]\n",
            " [9.9999893e-01]\n",
            " [9.9999797e-01]\n",
            " [9.9999940e-01]\n",
            " [9.9998951e-01]\n",
            " [9.9995375e-01]\n",
            " [9.1067857e-01]\n",
            " [9.9974918e-01]\n",
            " [4.2581308e-01]\n",
            " [1.0000000e+00]\n",
            " [6.5328318e-01]\n",
            " [9.9999988e-01]\n",
            " [9.4063783e-01]\n",
            " [3.7854516e-06]\n",
            " [8.5127262e-25]\n",
            " [4.5984529e-28]\n",
            " [1.2242110e-07]\n",
            " [9.5793551e-01]\n",
            " [9.9998963e-01]\n",
            " [2.7568334e-25]\n",
            " [1.1923215e-25]\n",
            " [3.8626948e-21]\n",
            " [9.9999976e-01]\n",
            " [9.9999535e-01]\n",
            " [1.0000000e+00]\n",
            " [9.9532998e-01]\n",
            " [6.6588371e-26]\n",
            " [9.9807262e-01]\n",
            " [2.4783611e-04]\n",
            " [1.0000000e+00]\n",
            " [4.0685427e-25]\n",
            " [9.9926114e-01]\n",
            " [9.9961138e-01]\n",
            " [1.7769098e-21]\n",
            " [1.5548972e-07]\n",
            " [1.0000000e+00]\n",
            " [1.0000000e+00]\n",
            " [9.9998021e-01]\n",
            " [9.9984026e-01]\n",
            " [9.8409985e-36]\n",
            " [5.9740757e-16]\n",
            " [9.9998891e-01]\n",
            " [9.9997109e-01]\n",
            " [3.4102798e-03]\n",
            " [9.9902987e-01]\n",
            " [1.5905626e-09]\n",
            " [9.9999470e-01]\n",
            " [9.2991030e-01]\n",
            " [9.9999964e-01]\n",
            " [3.6948253e-25]\n",
            " [9.9755418e-01]\n",
            " [1.2330294e-02]\n",
            " [1.8039346e-03]\n",
            " [3.8130045e-22]\n",
            " [7.5874031e-01]\n",
            " [9.2706746e-01]\n",
            " [0.0000000e+00]\n",
            " [9.9999821e-01]\n",
            " [1.9704633e-22]\n",
            " [9.9964488e-01]\n",
            " [0.0000000e+00]\n",
            " [9.9990690e-01]]\n"
          ],
          "name": "stdout"
        }
      ]
    },
    {
      "cell_type": "code",
      "metadata": {
        "id": "kG4lQ4HFv7F9",
        "colab_type": "code",
        "colab": {}
      },
      "source": [
        ""
      ],
      "execution_count": null,
      "outputs": []
    }
  ]
}